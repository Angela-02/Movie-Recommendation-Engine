{
  "metadata": {
    "kernelspec": {
      "name": "python",
      "display_name": "Python (Pyodide)",
      "language": "python"
    },
    "language_info": {
      "codemirror_mode": {
        "name": "python",
        "version": 3
      },
      "file_extension": ".py",
      "mimetype": "text/x-python",
      "name": "python",
      "nbconvert_exporter": "python",
      "pygments_lexer": "ipython3",
      "version": "3.8"
    }
  },
  "nbformat_minor": 4,
  "nbformat": 4,
  "cells": [
    {
      "cell_type": "code",
      "source": "%pip install -q ipywidgets",
      "metadata": {
        "trusted": true
      },
      "outputs": [],
      "execution_count": 1
    },
    {
      "cell_type": "code",
      "source": "import pandas as pd\nimport numpy as np\nfrom sklearn.feature_extraction.text import TfidfVectorizer     \nfrom sklearn.metrics.pairwise import cosine_similarity\nfrom ipywidgets import *",
      "metadata": {
        "trusted": true
      },
      "outputs": [],
      "execution_count": 2
    },
    {
      "cell_type": "code",
      "source": "movies=pd.read_csv('movies.csv')\nratings=pd.read_csv('ratings.csv')",
      "metadata": {
        "trusted": true
      },
      "outputs": [],
      "execution_count": 3
    },
    {
      "cell_type": "code",
      "source": "movies.head()",
      "metadata": {
        "trusted": true
      },
      "outputs": [
        {
          "execution_count": 4,
          "output_type": "execute_result",
          "data": {
            "text/plain": "   movieId                               title  \\\n0        1                    Toy Story (1995)   \n1        2                      Jumanji (1995)   \n2        3             Grumpier Old Men (1995)   \n3        4            Waiting to Exhale (1995)   \n4        5  Father of the Bride Part II (1995)   \n\n                                        genres  \n0  Adventure|Animation|Children|Comedy|Fantasy  \n1                   Adventure|Children|Fantasy  \n2                               Comedy|Romance  \n3                         Comedy|Drama|Romance  \n4                                       Comedy  ",
            "text/html": "<div>\n<style scoped>\n    .dataframe tbody tr th:only-of-type {\n        vertical-align: middle;\n    }\n\n    .dataframe tbody tr th {\n        vertical-align: top;\n    }\n\n    .dataframe thead th {\n        text-align: right;\n    }\n</style>\n<table border=\"1\" class=\"dataframe\">\n  <thead>\n    <tr style=\"text-align: right;\">\n      <th></th>\n      <th>movieId</th>\n      <th>title</th>\n      <th>genres</th>\n    </tr>\n  </thead>\n  <tbody>\n    <tr>\n      <th>0</th>\n      <td>1</td>\n      <td>Toy Story (1995)</td>\n      <td>Adventure|Animation|Children|Comedy|Fantasy</td>\n    </tr>\n    <tr>\n      <th>1</th>\n      <td>2</td>\n      <td>Jumanji (1995)</td>\n      <td>Adventure|Children|Fantasy</td>\n    </tr>\n    <tr>\n      <th>2</th>\n      <td>3</td>\n      <td>Grumpier Old Men (1995)</td>\n      <td>Comedy|Romance</td>\n    </tr>\n    <tr>\n      <th>3</th>\n      <td>4</td>\n      <td>Waiting to Exhale (1995)</td>\n      <td>Comedy|Drama|Romance</td>\n    </tr>\n    <tr>\n      <th>4</th>\n      <td>5</td>\n      <td>Father of the Bride Part II (1995)</td>\n      <td>Comedy</td>\n    </tr>\n  </tbody>\n</table>\n</div>"
          },
          "metadata": {}
        }
      ],
      "execution_count": 4
    },
    {
      "cell_type": "code",
      "source": "ratings.head()",
      "metadata": {
        "trusted": true
      },
      "outputs": [
        {
          "execution_count": 5,
          "output_type": "execute_result",
          "data": {
            "text/plain": "   userId  movieId  rating   timestamp\n0       1       16     4.0  1217897793\n1       1       24     1.5  1217895807\n2       1       32     4.0  1217896246\n3       1       47     4.0  1217896556\n4       1       50     4.0  1217896523",
            "text/html": "<div>\n<style scoped>\n    .dataframe tbody tr th:only-of-type {\n        vertical-align: middle;\n    }\n\n    .dataframe tbody tr th {\n        vertical-align: top;\n    }\n\n    .dataframe thead th {\n        text-align: right;\n    }\n</style>\n<table border=\"1\" class=\"dataframe\">\n  <thead>\n    <tr style=\"text-align: right;\">\n      <th></th>\n      <th>userId</th>\n      <th>movieId</th>\n      <th>rating</th>\n      <th>timestamp</th>\n    </tr>\n  </thead>\n  <tbody>\n    <tr>\n      <th>0</th>\n      <td>1</td>\n      <td>16</td>\n      <td>4.0</td>\n      <td>1217897793</td>\n    </tr>\n    <tr>\n      <th>1</th>\n      <td>1</td>\n      <td>24</td>\n      <td>1.5</td>\n      <td>1217895807</td>\n    </tr>\n    <tr>\n      <th>2</th>\n      <td>1</td>\n      <td>32</td>\n      <td>4.0</td>\n      <td>1217896246</td>\n    </tr>\n    <tr>\n      <th>3</th>\n      <td>1</td>\n      <td>47</td>\n      <td>4.0</td>\n      <td>1217896556</td>\n    </tr>\n    <tr>\n      <th>4</th>\n      <td>1</td>\n      <td>50</td>\n      <td>4.0</td>\n      <td>1217896523</td>\n    </tr>\n  </tbody>\n</table>\n</div>"
          },
          "metadata": {}
        }
      ],
      "execution_count": 5
    },
    {
      "cell_type": "code",
      "source": "movies.info()",
      "metadata": {
        "trusted": true
      },
      "outputs": [
        {
          "name": "stdout",
          "text": "<class 'pandas.core.frame.DataFrame'>\nRangeIndex: 10329 entries, 0 to 10328\nData columns (total 3 columns):\n #   Column   Non-Null Count  Dtype \n---  ------   --------------  ----- \n 0   movieId  10329 non-null  int64 \n 1   title    10329 non-null  object\n 2   genres   10329 non-null  object\ndtypes: int64(1), object(2)\nmemory usage: 161.5+ KB\n",
          "output_type": "stream"
        }
      ],
      "execution_count": 6
    },
    {
      "cell_type": "code",
      "source": "movies.shape",
      "metadata": {
        "trusted": true
      },
      "outputs": [
        {
          "execution_count": 7,
          "output_type": "execute_result",
          "data": {
            "text/plain": "(10329, 3)"
          },
          "metadata": {}
        }
      ],
      "execution_count": 7
    },
    {
      "cell_type": "code",
      "source": "ratings.info()",
      "metadata": {
        "trusted": true
      },
      "outputs": [
        {
          "name": "stdout",
          "text": "<class 'pandas.core.frame.DataFrame'>\nRangeIndex: 105339 entries, 0 to 105338\nData columns (total 4 columns):\n #   Column     Non-Null Count   Dtype  \n---  ------     --------------   -----  \n 0   userId     105339 non-null  int64  \n 1   movieId    105339 non-null  int64  \n 2   rating     105339 non-null  float64\n 3   timestamp  105339 non-null  int64  \ndtypes: float64(1), int64(3)\nmemory usage: 3.2 MB\n",
          "output_type": "stream"
        }
      ],
      "execution_count": 8
    },
    {
      "cell_type": "code",
      "source": "ratings.shape",
      "metadata": {
        "trusted": true
      },
      "outputs": [
        {
          "execution_count": 9,
          "output_type": "execute_result",
          "data": {
            "text/plain": "(105339, 4)"
          },
          "metadata": {}
        }
      ],
      "execution_count": 9
    },
    {
      "cell_type": "code",
      "source": "ratings.describe()",
      "metadata": {
        "trusted": true
      },
      "outputs": [
        {
          "execution_count": 10,
          "output_type": "execute_result",
          "data": {
            "text/plain": "              userId        movieId         rating     timestamp\ncount  105339.000000  105339.000000  105339.000000  1.053390e+05\nmean      364.924539   13381.312477       3.516850  1.130424e+09\nstd       197.486905   26170.456869       1.044872  1.802660e+08\nmin         1.000000       1.000000       0.500000  8.285650e+08\n25%       192.000000    1073.000000       3.000000  9.711008e+08\n50%       383.000000    2497.000000       3.500000  1.115154e+09\n75%       557.000000    5991.000000       4.000000  1.275496e+09\nmax       668.000000  149532.000000       5.000000  1.452405e+09",
            "text/html": "<div>\n<style scoped>\n    .dataframe tbody tr th:only-of-type {\n        vertical-align: middle;\n    }\n\n    .dataframe tbody tr th {\n        vertical-align: top;\n    }\n\n    .dataframe thead th {\n        text-align: right;\n    }\n</style>\n<table border=\"1\" class=\"dataframe\">\n  <thead>\n    <tr style=\"text-align: right;\">\n      <th></th>\n      <th>userId</th>\n      <th>movieId</th>\n      <th>rating</th>\n      <th>timestamp</th>\n    </tr>\n  </thead>\n  <tbody>\n    <tr>\n      <th>count</th>\n      <td>105339.000000</td>\n      <td>105339.000000</td>\n      <td>105339.000000</td>\n      <td>1.053390e+05</td>\n    </tr>\n    <tr>\n      <th>mean</th>\n      <td>364.924539</td>\n      <td>13381.312477</td>\n      <td>3.516850</td>\n      <td>1.130424e+09</td>\n    </tr>\n    <tr>\n      <th>std</th>\n      <td>197.486905</td>\n      <td>26170.456869</td>\n      <td>1.044872</td>\n      <td>1.802660e+08</td>\n    </tr>\n    <tr>\n      <th>min</th>\n      <td>1.000000</td>\n      <td>1.000000</td>\n      <td>0.500000</td>\n      <td>8.285650e+08</td>\n    </tr>\n    <tr>\n      <th>25%</th>\n      <td>192.000000</td>\n      <td>1073.000000</td>\n      <td>3.000000</td>\n      <td>9.711008e+08</td>\n    </tr>\n    <tr>\n      <th>50%</th>\n      <td>383.000000</td>\n      <td>2497.000000</td>\n      <td>3.500000</td>\n      <td>1.115154e+09</td>\n    </tr>\n    <tr>\n      <th>75%</th>\n      <td>557.000000</td>\n      <td>5991.000000</td>\n      <td>4.000000</td>\n      <td>1.275496e+09</td>\n    </tr>\n    <tr>\n      <th>max</th>\n      <td>668.000000</td>\n      <td>149532.000000</td>\n      <td>5.000000</td>\n      <td>1.452405e+09</td>\n    </tr>\n  </tbody>\n</table>\n</div>"
          },
          "metadata": {}
        }
      ],
      "execution_count": 10
    },
    {
      "cell_type": "code",
      "source": "movies['genres']=movies['genres'].str.split(\"|\")",
      "metadata": {
        "trusted": true
      },
      "outputs": [],
      "execution_count": 11
    },
    {
      "cell_type": "code",
      "source": "movies2=movies.explode('genres')\nmovies2.head()",
      "metadata": {
        "trusted": true
      },
      "outputs": [
        {
          "execution_count": 12,
          "output_type": "execute_result",
          "data": {
            "text/plain": "   movieId             title     genres\n0        1  Toy Story (1995)  Adventure\n0        1  Toy Story (1995)  Animation\n0        1  Toy Story (1995)   Children\n0        1  Toy Story (1995)     Comedy\n0        1  Toy Story (1995)    Fantasy",
            "text/html": "<div>\n<style scoped>\n    .dataframe tbody tr th:only-of-type {\n        vertical-align: middle;\n    }\n\n    .dataframe tbody tr th {\n        vertical-align: top;\n    }\n\n    .dataframe thead th {\n        text-align: right;\n    }\n</style>\n<table border=\"1\" class=\"dataframe\">\n  <thead>\n    <tr style=\"text-align: right;\">\n      <th></th>\n      <th>movieId</th>\n      <th>title</th>\n      <th>genres</th>\n    </tr>\n  </thead>\n  <tbody>\n    <tr>\n      <th>0</th>\n      <td>1</td>\n      <td>Toy Story (1995)</td>\n      <td>Adventure</td>\n    </tr>\n    <tr>\n      <th>0</th>\n      <td>1</td>\n      <td>Toy Story (1995)</td>\n      <td>Animation</td>\n    </tr>\n    <tr>\n      <th>0</th>\n      <td>1</td>\n      <td>Toy Story (1995)</td>\n      <td>Children</td>\n    </tr>\n    <tr>\n      <th>0</th>\n      <td>1</td>\n      <td>Toy Story (1995)</td>\n      <td>Comedy</td>\n    </tr>\n    <tr>\n      <th>0</th>\n      <td>1</td>\n      <td>Toy Story (1995)</td>\n      <td>Fantasy</td>\n    </tr>\n  </tbody>\n</table>\n</div>"
          },
          "metadata": {}
        }
      ],
      "execution_count": 12
    },
    {
      "cell_type": "code",
      "source": "movies2['genres'].unique()",
      "metadata": {
        "trusted": true
      },
      "outputs": [
        {
          "execution_count": 13,
          "output_type": "execute_result",
          "data": {
            "text/plain": "array(['Adventure', 'Animation', 'Children', 'Comedy', 'Fantasy',\n       'Romance', 'Drama', 'Action', 'Crime', 'Thriller', 'Horror',\n       'Mystery', 'Sci-Fi', 'IMAX', 'War', 'Musical', 'Documentary',\n       'Western', 'Film-Noir', '(no genres listed)'], dtype=object)"
          },
          "metadata": {}
        }
      ],
      "execution_count": 13
    },
    {
      "cell_type": "code",
      "source": "movies2['genres'].nunique()",
      "metadata": {
        "trusted": true
      },
      "outputs": [
        {
          "execution_count": 14,
          "output_type": "execute_result",
          "data": {
            "text/plain": "20"
          },
          "metadata": {}
        }
      ],
      "execution_count": 14
    },
    {
      "cell_type": "code",
      "source": "movies2=movies2[movies2['genres']!='(no genres listed)']",
      "metadata": {
        "trusted": true
      },
      "outputs": [],
      "execution_count": 15
    },
    {
      "cell_type": "code",
      "source": "movies2['genres'].unique()",
      "metadata": {
        "trusted": true
      },
      "outputs": [
        {
          "execution_count": 16,
          "output_type": "execute_result",
          "data": {
            "text/plain": "array(['Adventure', 'Animation', 'Children', 'Comedy', 'Fantasy',\n       'Romance', 'Drama', 'Action', 'Crime', 'Thriller', 'Horror',\n       'Mystery', 'Sci-Fi', 'IMAX', 'War', 'Musical', 'Documentary',\n       'Western', 'Film-Noir'], dtype=object)"
          },
          "metadata": {}
        }
      ],
      "execution_count": 16
    },
    {
      "cell_type": "code",
      "source": "movies2['genres'].nunique()",
      "metadata": {
        "trusted": true
      },
      "outputs": [
        {
          "execution_count": 17,
          "output_type": "execute_result",
          "data": {
            "text/plain": "19"
          },
          "metadata": {}
        }
      ],
      "execution_count": 17
    },
    {
      "cell_type": "code",
      "source": "merged_data=pd.merge(ratings,movies2,on=['movieId'],how='inner')",
      "metadata": {
        "trusted": true
      },
      "outputs": [],
      "execution_count": 18
    },
    {
      "cell_type": "code",
      "source": "popularity=merged_data.groupby(['genres','title']).agg({'rating':['mean','size']}).reset_index()\npopularity.columns=[\"Genres\",\"Title\",\"Average_Ratings\",\"Number_of_Ratings\"]\npopularity",
      "metadata": {
        "trusted": true
      },
      "outputs": [
        {
          "execution_count": 19,
          "output_type": "execute_result",
          "data": {
            "text/plain": "        Genres                                       Title  Average_Ratings  \\\n0       Action                                  '71 (2014)         3.500000   \n1       Action     'Hellboy': The Seeds of Creation (2004)         3.000000   \n2       Action                       10 to Midnight (1983)         2.500000   \n3       Action                            12 Rounds (2009)         2.875000   \n4       Action  13 Assassins (Jûsan-nin no shikaku) (2010)         3.500000   \n...        ...                                         ...              ...   \n23093  Western                           Wyatt Earp (1994)         3.200000   \n23094  Western                           Young Guns (1988)         3.375000   \n23095  Western                        Young Guns II (1990)         3.083333   \n23096  Western                           Young Ones (2014)         2.000000   \n23097  Western                       ¡Three Amigos! (1986)         3.012500   \n\n       Number_of_Ratings  \n0                      1  \n1                      1  \n2                      1  \n3                      4  \n4                      5  \n...                  ...  \n23093                 30  \n23094                 36  \n23095                 12  \n23096                  1  \n23097                 40  \n\n[23098 rows x 4 columns]",
            "text/html": "<div>\n<style scoped>\n    .dataframe tbody tr th:only-of-type {\n        vertical-align: middle;\n    }\n\n    .dataframe tbody tr th {\n        vertical-align: top;\n    }\n\n    .dataframe thead th {\n        text-align: right;\n    }\n</style>\n<table border=\"1\" class=\"dataframe\">\n  <thead>\n    <tr style=\"text-align: right;\">\n      <th></th>\n      <th>Genres</th>\n      <th>Title</th>\n      <th>Average_Ratings</th>\n      <th>Number_of_Ratings</th>\n    </tr>\n  </thead>\n  <tbody>\n    <tr>\n      <th>0</th>\n      <td>Action</td>\n      <td>'71 (2014)</td>\n      <td>3.500000</td>\n      <td>1</td>\n    </tr>\n    <tr>\n      <th>1</th>\n      <td>Action</td>\n      <td>'Hellboy': The Seeds of Creation (2004)</td>\n      <td>3.000000</td>\n      <td>1</td>\n    </tr>\n    <tr>\n      <th>2</th>\n      <td>Action</td>\n      <td>10 to Midnight (1983)</td>\n      <td>2.500000</td>\n      <td>1</td>\n    </tr>\n    <tr>\n      <th>3</th>\n      <td>Action</td>\n      <td>12 Rounds (2009)</td>\n      <td>2.875000</td>\n      <td>4</td>\n    </tr>\n    <tr>\n      <th>4</th>\n      <td>Action</td>\n      <td>13 Assassins (Jûsan-nin no shikaku) (2010)</td>\n      <td>3.500000</td>\n      <td>5</td>\n    </tr>\n    <tr>\n      <th>...</th>\n      <td>...</td>\n      <td>...</td>\n      <td>...</td>\n      <td>...</td>\n    </tr>\n    <tr>\n      <th>23093</th>\n      <td>Western</td>\n      <td>Wyatt Earp (1994)</td>\n      <td>3.200000</td>\n      <td>30</td>\n    </tr>\n    <tr>\n      <th>23094</th>\n      <td>Western</td>\n      <td>Young Guns (1988)</td>\n      <td>3.375000</td>\n      <td>36</td>\n    </tr>\n    <tr>\n      <th>23095</th>\n      <td>Western</td>\n      <td>Young Guns II (1990)</td>\n      <td>3.083333</td>\n      <td>12</td>\n    </tr>\n    <tr>\n      <th>23096</th>\n      <td>Western</td>\n      <td>Young Ones (2014)</td>\n      <td>2.000000</td>\n      <td>1</td>\n    </tr>\n    <tr>\n      <th>23097</th>\n      <td>Western</td>\n      <td>¡Three Amigos! (1986)</td>\n      <td>3.012500</td>\n      <td>40</td>\n    </tr>\n  </tbody>\n</table>\n<p>23098 rows × 4 columns</p>\n</div>"
          },
          "metadata": {}
        }
      ],
      "execution_count": 19
    },
    {
      "cell_type": "code",
      "source": "popularity[(popularity['Genres']=='Action')&(popularity['Number_of_Ratings']>=50)].sort_values(by=\"Average_Ratings\",ascending=False).head(7)",
      "metadata": {
        "trusted": true
      },
      "outputs": [
        {
          "execution_count": 20,
          "output_type": "execute_result",
          "data": {
            "text/plain": "      Genres                                              Title  \\\n1179  Action           Princess Mononoke (Mononoke-hime) (1997)   \n1076  Action                          North by Northwest (1959)   \n975   Action                                 Matrix, The (1999)   \n1433  Action  Star Wars: Episode V - The Empire Strikes Back...   \n1331  Action        Seven Samurai (Shichinin no samurai) (1954)   \n1199  Action  Raiders of the Lost Ark (Indiana Jones and the...   \n747   Action                                   Inception (2010)   \n\n      Average_Ratings  Number_of_Ratings  \n1179         4.384615                 52  \n1076         4.273973                 73  \n975          4.264368                261  \n1433         4.228070                228  \n1331         4.217742                 62  \n1199         4.212054                224  \n747          4.189320                103  ",
            "text/html": "<div>\n<style scoped>\n    .dataframe tbody tr th:only-of-type {\n        vertical-align: middle;\n    }\n\n    .dataframe tbody tr th {\n        vertical-align: top;\n    }\n\n    .dataframe thead th {\n        text-align: right;\n    }\n</style>\n<table border=\"1\" class=\"dataframe\">\n  <thead>\n    <tr style=\"text-align: right;\">\n      <th></th>\n      <th>Genres</th>\n      <th>Title</th>\n      <th>Average_Ratings</th>\n      <th>Number_of_Ratings</th>\n    </tr>\n  </thead>\n  <tbody>\n    <tr>\n      <th>1179</th>\n      <td>Action</td>\n      <td>Princess Mononoke (Mononoke-hime) (1997)</td>\n      <td>4.384615</td>\n      <td>52</td>\n    </tr>\n    <tr>\n      <th>1076</th>\n      <td>Action</td>\n      <td>North by Northwest (1959)</td>\n      <td>4.273973</td>\n      <td>73</td>\n    </tr>\n    <tr>\n      <th>975</th>\n      <td>Action</td>\n      <td>Matrix, The (1999)</td>\n      <td>4.264368</td>\n      <td>261</td>\n    </tr>\n    <tr>\n      <th>1433</th>\n      <td>Action</td>\n      <td>Star Wars: Episode V - The Empire Strikes Back...</td>\n      <td>4.228070</td>\n      <td>228</td>\n    </tr>\n    <tr>\n      <th>1331</th>\n      <td>Action</td>\n      <td>Seven Samurai (Shichinin no samurai) (1954)</td>\n      <td>4.217742</td>\n      <td>62</td>\n    </tr>\n    <tr>\n      <th>1199</th>\n      <td>Action</td>\n      <td>Raiders of the Lost Ark (Indiana Jones and the...</td>\n      <td>4.212054</td>\n      <td>224</td>\n    </tr>\n    <tr>\n      <th>747</th>\n      <td>Action</td>\n      <td>Inception (2010)</td>\n      <td>4.189320</td>\n      <td>103</td>\n    </tr>\n  </tbody>\n</table>\n</div>"
          },
          "metadata": {}
        }
      ],
      "execution_count": 20
    },
    {
      "cell_type": "code",
      "source": "def TopNPopularMovies(genre,threshold,topN):\n    popularity=merged_data.groupby(['genres','title']).agg({'rating':['mean','size']}).reset_index()\n    popularity.columns=[\"Genres\",\"Title\",\"Average_Ratings\",\"Number_of_Ratings\"]\n\n    topNrecommendations=popularity[(popularity['Genres']==genre)&(popularity['Number_of_Ratings']>=threshold)].sort_values(by=\"Average_Ratings\",ascending=False).head(topN)\n\n    topNrecommendations['Sno.']=range(1,len(topNrecommendations)+1)\n    topNrecommendations.index=range(0,len(topNrecommendations))\n    topNrecommendations.columns=['Genre','Movie Title','Average Movie Rating','Number of Reviews','Sno.']\n    return topNrecommendations[['Sno.','Movie Title','Average Movie Rating','Number of Reviews']]",
      "metadata": {
        "trusted": true
      },
      "outputs": [],
      "execution_count": 21
    },
    {
      "cell_type": "code",
      "source": "genre='Adventure'\nthreshold=50\ntopN=10\nTopNPopularMovies(genre=genre,threshold=threshold,topN=topN)",
      "metadata": {
        "trusted": true
      },
      "outputs": [
        {
          "execution_count": 22,
          "output_type": "execute_result",
          "data": {
            "text/plain": "   Sno.                                        Movie Title  \\\n0     1           Princess Mononoke (Mononoke-hime) (1997)   \n1     2             Monty Python and the Holy Grail (1975)   \n2     3                          North by Northwest (1959)   \n3     4  Spirited Away (Sen to Chihiro no kamikakushi) ...   \n4     5  Star Wars: Episode V - The Empire Strikes Back...   \n5     6        Seven Samurai (Shichinin no samurai) (1954)   \n6     7  Raiders of the Lost Ark (Indiana Jones and the...   \n7     8          Star Wars: Episode IV - A New Hope (1977)   \n8     9                          Lawrence of Arabia (1962)   \n9    10                         Princess Bride, The (1987)   \n\n   Average Movie Rating  Number of Reviews  \n0              4.384615                 52  \n1              4.301948                154  \n2              4.273973                 73  \n3              4.236111                 72  \n4              4.228070                228  \n5              4.217742                 62  \n6              4.212054                224  \n7              4.188645                273  \n8              4.166667                 60  \n9              4.163743                171  ",
            "text/html": "<div>\n<style scoped>\n    .dataframe tbody tr th:only-of-type {\n        vertical-align: middle;\n    }\n\n    .dataframe tbody tr th {\n        vertical-align: top;\n    }\n\n    .dataframe thead th {\n        text-align: right;\n    }\n</style>\n<table border=\"1\" class=\"dataframe\">\n  <thead>\n    <tr style=\"text-align: right;\">\n      <th></th>\n      <th>Sno.</th>\n      <th>Movie Title</th>\n      <th>Average Movie Rating</th>\n      <th>Number of Reviews</th>\n    </tr>\n  </thead>\n  <tbody>\n    <tr>\n      <th>0</th>\n      <td>1</td>\n      <td>Princess Mononoke (Mononoke-hime) (1997)</td>\n      <td>4.384615</td>\n      <td>52</td>\n    </tr>\n    <tr>\n      <th>1</th>\n      <td>2</td>\n      <td>Monty Python and the Holy Grail (1975)</td>\n      <td>4.301948</td>\n      <td>154</td>\n    </tr>\n    <tr>\n      <th>2</th>\n      <td>3</td>\n      <td>North by Northwest (1959)</td>\n      <td>4.273973</td>\n      <td>73</td>\n    </tr>\n    <tr>\n      <th>3</th>\n      <td>4</td>\n      <td>Spirited Away (Sen to Chihiro no kamikakushi) ...</td>\n      <td>4.236111</td>\n      <td>72</td>\n    </tr>\n    <tr>\n      <th>4</th>\n      <td>5</td>\n      <td>Star Wars: Episode V - The Empire Strikes Back...</td>\n      <td>4.228070</td>\n      <td>228</td>\n    </tr>\n    <tr>\n      <th>5</th>\n      <td>6</td>\n      <td>Seven Samurai (Shichinin no samurai) (1954)</td>\n      <td>4.217742</td>\n      <td>62</td>\n    </tr>\n    <tr>\n      <th>6</th>\n      <td>7</td>\n      <td>Raiders of the Lost Ark (Indiana Jones and the...</td>\n      <td>4.212054</td>\n      <td>224</td>\n    </tr>\n    <tr>\n      <th>7</th>\n      <td>8</td>\n      <td>Star Wars: Episode IV - A New Hope (1977)</td>\n      <td>4.188645</td>\n      <td>273</td>\n    </tr>\n    <tr>\n      <th>8</th>\n      <td>9</td>\n      <td>Lawrence of Arabia (1962)</td>\n      <td>4.166667</td>\n      <td>60</td>\n    </tr>\n    <tr>\n      <th>9</th>\n      <td>10</td>\n      <td>Princess Bride, The (1987)</td>\n      <td>4.163743</td>\n      <td>171</td>\n    </tr>\n  </tbody>\n</table>\n</div>"
          },
          "metadata": {}
        }
      ],
      "execution_count": 22
    },
    {
      "cell_type": "code",
      "source": "movies3=movies2.groupby('title').agg({\"genres\":lambda x:\" \".join(list(x))}).reset_index()",
      "metadata": {
        "trusted": true
      },
      "outputs": [],
      "execution_count": 23
    },
    {
      "cell_type": "code",
      "source": "tf=TfidfVectorizer(analyzer='word',ngram_range=(1,3),stop_words='english')\ntf",
      "metadata": {
        "trusted": true
      },
      "outputs": [
        {
          "execution_count": 24,
          "output_type": "execute_result",
          "data": {
            "text/plain": "TfidfVectorizer(ngram_range=(1, 3), stop_words='english')",
            "text/html": "<style>#sk-container-id-1 {color: black;}#sk-container-id-1 pre{padding: 0;}#sk-container-id-1 div.sk-toggleable {background-color: white;}#sk-container-id-1 label.sk-toggleable__label {cursor: pointer;display: block;width: 100%;margin-bottom: 0;padding: 0.3em;box-sizing: border-box;text-align: center;}#sk-container-id-1 label.sk-toggleable__label-arrow:before {content: \"▸\";float: left;margin-right: 0.25em;color: #696969;}#sk-container-id-1 label.sk-toggleable__label-arrow:hover:before {color: black;}#sk-container-id-1 div.sk-estimator:hover label.sk-toggleable__label-arrow:before {color: black;}#sk-container-id-1 div.sk-toggleable__content {max-height: 0;max-width: 0;overflow: hidden;text-align: left;background-color: #f0f8ff;}#sk-container-id-1 div.sk-toggleable__content pre {margin: 0.2em;color: black;border-radius: 0.25em;background-color: #f0f8ff;}#sk-container-id-1 input.sk-toggleable__control:checked~div.sk-toggleable__content {max-height: 200px;max-width: 100%;overflow: auto;}#sk-container-id-1 input.sk-toggleable__control:checked~label.sk-toggleable__label-arrow:before {content: \"▾\";}#sk-container-id-1 div.sk-estimator input.sk-toggleable__control:checked~label.sk-toggleable__label {background-color: #d4ebff;}#sk-container-id-1 div.sk-label input.sk-toggleable__control:checked~label.sk-toggleable__label {background-color: #d4ebff;}#sk-container-id-1 input.sk-hidden--visually {border: 0;clip: rect(1px 1px 1px 1px);clip: rect(1px, 1px, 1px, 1px);height: 1px;margin: -1px;overflow: hidden;padding: 0;position: absolute;width: 1px;}#sk-container-id-1 div.sk-estimator {font-family: monospace;background-color: #f0f8ff;border: 1px dotted black;border-radius: 0.25em;box-sizing: border-box;margin-bottom: 0.5em;}#sk-container-id-1 div.sk-estimator:hover {background-color: #d4ebff;}#sk-container-id-1 div.sk-parallel-item::after {content: \"\";width: 100%;border-bottom: 1px solid gray;flex-grow: 1;}#sk-container-id-1 div.sk-label:hover label.sk-toggleable__label {background-color: #d4ebff;}#sk-container-id-1 div.sk-serial::before {content: \"\";position: absolute;border-left: 1px solid gray;box-sizing: border-box;top: 0;bottom: 0;left: 50%;z-index: 0;}#sk-container-id-1 div.sk-serial {display: flex;flex-direction: column;align-items: center;background-color: white;padding-right: 0.2em;padding-left: 0.2em;position: relative;}#sk-container-id-1 div.sk-item {position: relative;z-index: 1;}#sk-container-id-1 div.sk-parallel {display: flex;align-items: stretch;justify-content: center;background-color: white;position: relative;}#sk-container-id-1 div.sk-item::before, #sk-container-id-1 div.sk-parallel-item::before {content: \"\";position: absolute;border-left: 1px solid gray;box-sizing: border-box;top: 0;bottom: 0;left: 50%;z-index: -1;}#sk-container-id-1 div.sk-parallel-item {display: flex;flex-direction: column;z-index: 1;position: relative;background-color: white;}#sk-container-id-1 div.sk-parallel-item:first-child::after {align-self: flex-end;width: 50%;}#sk-container-id-1 div.sk-parallel-item:last-child::after {align-self: flex-start;width: 50%;}#sk-container-id-1 div.sk-parallel-item:only-child::after {width: 0;}#sk-container-id-1 div.sk-dashed-wrapped {border: 1px dashed gray;margin: 0 0.4em 0.5em 0.4em;box-sizing: border-box;padding-bottom: 0.4em;background-color: white;}#sk-container-id-1 div.sk-label label {font-family: monospace;font-weight: bold;display: inline-block;line-height: 1.2em;}#sk-container-id-1 div.sk-label-container {text-align: center;}#sk-container-id-1 div.sk-container {/* jupyter's `normalize.less` sets `[hidden] { display: none; }` but bootstrap.min.css set `[hidden] { display: none !important; }` so we also need the `!important` here to be able to override the default hidden behavior on the sphinx rendered scikit-learn.org. See: https://github.com/scikit-learn/scikit-learn/issues/21755 */display: inline-block !important;position: relative;}#sk-container-id-1 div.sk-text-repr-fallback {display: none;}</style><div id=\"sk-container-id-1\" class=\"sk-top-container\"><div class=\"sk-text-repr-fallback\"><pre>TfidfVectorizer(ngram_range=(1, 3), stop_words=&#x27;english&#x27;)</pre><b>In a Jupyter environment, please rerun this cell to show the HTML representation or trust the notebook. <br />On GitHub, the HTML representation is unable to render, please try loading this page with nbviewer.org.</b></div><div class=\"sk-container\" hidden><div class=\"sk-item\"><div class=\"sk-estimator sk-toggleable\"><input class=\"sk-toggleable__control sk-hidden--visually\" id=\"sk-estimator-id-1\" type=\"checkbox\" checked><label for=\"sk-estimator-id-1\" class=\"sk-toggleable__label sk-toggleable__label-arrow\">TfidfVectorizer</label><div class=\"sk-toggleable__content\"><pre>TfidfVectorizer(ngram_range=(1, 3), stop_words=&#x27;english&#x27;)</pre></div></div></div></div></div>"
          },
          "metadata": {}
        }
      ],
      "execution_count": 24
    },
    {
      "cell_type": "code",
      "source": "tf_matrix=tf.fit_transform(movies3['genres'])",
      "metadata": {
        "trusted": true
      },
      "outputs": [],
      "execution_count": 25
    },
    {
      "cell_type": "code",
      "source": "cosine_sim = cosine_similarity(tf_matrix,tf_matrix)",
      "metadata": {
        "trusted": true
      },
      "outputs": [],
      "execution_count": 26
    },
    {
      "cell_type": "code",
      "source": "cosine_sim",
      "metadata": {
        "trusted": true
      },
      "outputs": [
        {
          "execution_count": 27,
          "output_type": "execute_result",
          "data": {
            "text/plain": "array([[1.        , 0.02677945, 0.02931913, ..., 0.10229517, 0.        ,\n        0.        ],\n       [0.02677945, 1.        , 0.        , ..., 0.03626651, 0.02411583,\n        0.02863994],\n       [0.02931913, 0.        , 1.        , ..., 0.        , 0.        ,\n        0.35526663],\n       ...,\n       [0.10229517, 0.03626651, 0.        , ..., 1.        , 0.        ,\n        0.        ],\n       [0.        , 0.02411583, 0.        , ..., 0.        , 1.        ,\n        0.07090711],\n       [0.        , 0.02863994, 0.35526663, ..., 0.        , 0.07090711,\n        1.        ]])"
          },
          "metadata": {}
        }
      ],
      "execution_count": 27
    },
    {
      "cell_type": "code",
      "source": "def recommendation_genre(movie_df,similarity_matrix,movie_title,topN):\n    indices=pd.Series(movies3.index,index=movies3['title'])\n    index=indices[movie_title]\n    cosine_scores=list(enumerate(similarity_matrix[index]))\n    cosine_scores=sorted(cosine_scores,key=lambda x:x[1],reverse=True)[1:topN+2]\n    matched=[i[0] for i in cosine_scores]\n    matching_df=movie_df.iloc[matched]\n    matching_df=matching_df[matching_df['title']!=movie_title]\n    matching_df.rename(columns={'title':'Movie Title'},inplace=True)\n    matching_df['Sno.']=range(1,len(matching_df)+1)\n    matching_df.index=range(0,len(matching_df))\n    return matching_df[['Sno.','Movie Title']].head(topN)",
      "metadata": {
        "trusted": true
      },
      "outputs": [],
      "execution_count": 30
    },
    {
      "cell_type": "code",
      "source": "recommendation_genre(movie_df=movies3,similarity_matrix=cosine_sim,movie_title='Inception (2010)',topN=10)",
      "metadata": {
        "trusted": true
      },
      "outputs": [
        {
          "execution_count": 58,
          "output_type": "execute_result",
          "data": {
            "text/plain": "   Sno.            Movie Title\n0     1    Strange Days (1995)\n1     2        Watchmen (2009)\n2     3         Super 8 (2011)\n3     4       Coherence (2013)\n4     5    Donnie Darko (2001)\n5     6  Forgotten, The (2004)\n6     7     Jacket, The (2005)\n7     8            Moon (2009)\n8     9   Prestige, The (2006)\n9    10   Soylent Green (1973)",
            "text/html": "<div>\n<style scoped>\n    .dataframe tbody tr th:only-of-type {\n        vertical-align: middle;\n    }\n\n    .dataframe tbody tr th {\n        vertical-align: top;\n    }\n\n    .dataframe thead th {\n        text-align: right;\n    }\n</style>\n<table border=\"1\" class=\"dataframe\">\n  <thead>\n    <tr style=\"text-align: right;\">\n      <th></th>\n      <th>Sno.</th>\n      <th>Movie Title</th>\n    </tr>\n  </thead>\n  <tbody>\n    <tr>\n      <th>0</th>\n      <td>1</td>\n      <td>Strange Days (1995)</td>\n    </tr>\n    <tr>\n      <th>1</th>\n      <td>2</td>\n      <td>Watchmen (2009)</td>\n    </tr>\n    <tr>\n      <th>2</th>\n      <td>3</td>\n      <td>Super 8 (2011)</td>\n    </tr>\n    <tr>\n      <th>3</th>\n      <td>4</td>\n      <td>Coherence (2013)</td>\n    </tr>\n    <tr>\n      <th>4</th>\n      <td>5</td>\n      <td>Donnie Darko (2001)</td>\n    </tr>\n    <tr>\n      <th>5</th>\n      <td>6</td>\n      <td>Forgotten, The (2004)</td>\n    </tr>\n    <tr>\n      <th>6</th>\n      <td>7</td>\n      <td>Jacket, The (2005)</td>\n    </tr>\n    <tr>\n      <th>7</th>\n      <td>8</td>\n      <td>Moon (2009)</td>\n    </tr>\n    <tr>\n      <th>8</th>\n      <td>9</td>\n      <td>Prestige, The (2006)</td>\n    </tr>\n    <tr>\n      <th>9</th>\n      <td>10</td>\n      <td>Soylent Green (1973)</td>\n    </tr>\n  </tbody>\n</table>\n</div>"
          },
          "metadata": {}
        }
      ],
      "execution_count": 58
    },
    {
      "cell_type": "code",
      "source": "genres=Dropdown(options=list(set(movies2['genres'])),description=\"Genres\",style={\"description_width\":'initial'})\nnum_reviews=IntText(description=\"Minimum Reviews\",style={\"description_width\":'initial'})\nnum_recommendations_1=IntText(description=\"Number of Recommendations\",style={\"description_width\":'initial'})\n\nb1=Button(description=\"RECOMMEND ME\",style={\"description_width\":'initial'})\nh1=HBox([num_reviews,num_recommendations_1])\npopularity_tab=VBox([genres,h1,b1])\n\n\ntitle=Textarea(description=\"Movie Title\",style={\"description_width\":'initial'})\nnum_recommendations_2=IntText(description=\"Number of Recommendations\",style={\"description_width\":'initial'})\n\nh2=HBox([title,num_recommendations_2])\nb2=Button(description=\"RECOMMEND ME\",style={\"description_width\":'initial'})\ncontent_tab=VBox([h2,b2])\n\n\ntabs=[popularity_tab,content_tab]\nwid=widgets.Tab(tabs)\n\nnames=['Popularity Based Recommendations','Content Based Recommendations']\n[wid.set_title(i,title) for i,title in enumerate(names)]\n\ndisplay(wid)",
      "metadata": {
        "trusted": true
      },
      "outputs": [
        {
          "output_type": "display_data",
          "data": {
            "text/plain": "Tab(children=(VBox(children=(Dropdown(description='Genres', options=('Musical', 'War', 'Film-Noir', 'Comedy', …",
            "application/vnd.jupyter.widget-view+json": {
              "version_major": 2,
              "version_minor": 0,
              "model_id": "ecdb8e3e782d4313a6c3203507d91867"
            }
          },
          "metadata": {}
        }
      ],
      "execution_count": 42
    },
    {
      "cell_type": "code",
      "source": "def b1_clicked(b):\n    global output\n    output=TopNPopularMovies(genre=genres.value,threshold=num_reviews.value,topN=num_recommendations_1.value)\nb1.on_click(b1_clicked)\n\ndef b2_clicked(b):\n    global output\n    result=recommendation_genre(movie_df=movies3,similarity_matrix=cosine_sim,movie_title=title.value,topN=num_recommendations_2.value)\n    output=result\nb2.on_click(b2_clicked)",
      "metadata": {
        "trusted": true
      },
      "outputs": [],
      "execution_count": 59
    },
    {
      "cell_type": "code",
      "source": "display(wid)",
      "metadata": {
        "trusted": true
      },
      "outputs": [
        {
          "output_type": "display_data",
          "data": {
            "text/plain": "Tab(children=(VBox(children=(Dropdown(description='Genres', index=4, options=('Musical', 'War', 'Film-Noir', '…",
            "application/vnd.jupyter.widget-view+json": {
              "version_major": 2,
              "version_minor": 0,
              "model_id": "ecdb8e3e782d4313a6c3203507d91867"
            }
          },
          "metadata": {}
        }
      ],
      "execution_count": 60
    },
    {
      "cell_type": "code",
      "source": "output",
      "metadata": {
        "trusted": true
      },
      "outputs": [
        {
          "execution_count": 65,
          "output_type": "execute_result",
          "data": {
            "text/plain": "   Sno.                                 Movie Title  Average Movie Rating  \\\n0     1                   North by Northwest (1959)              4.273973   \n1     2  Life Is Beautiful (La Vita è bella) (1997)              4.253425   \n2     3                           Casablanca (1942)              4.236000   \n3     4                           Annie Hall (1977)              4.205882   \n4     5                         My Fair Lady (1964)              4.170000   \n5     6                              Vertigo (1958)              4.169492   \n6     7                    Good Will Hunting (1997)              4.167857   \n7     8                      West Side Story (1961)              4.166667   \n8     9                  Princess Bride, The (1987)              4.163743   \n9    10                      American Beauty (1999)              4.157407   \n\n   Number of Reviews  \n0                 73  \n1                 73  \n2                125  \n3                 68  \n4                 50  \n5                 59  \n6                140  \n7                 42  \n8                171  \n9                216  ",
            "text/html": "<div>\n<style scoped>\n    .dataframe tbody tr th:only-of-type {\n        vertical-align: middle;\n    }\n\n    .dataframe tbody tr th {\n        vertical-align: top;\n    }\n\n    .dataframe thead th {\n        text-align: right;\n    }\n</style>\n<table border=\"1\" class=\"dataframe\">\n  <thead>\n    <tr style=\"text-align: right;\">\n      <th></th>\n      <th>Sno.</th>\n      <th>Movie Title</th>\n      <th>Average Movie Rating</th>\n      <th>Number of Reviews</th>\n    </tr>\n  </thead>\n  <tbody>\n    <tr>\n      <th>0</th>\n      <td>1</td>\n      <td>North by Northwest (1959)</td>\n      <td>4.273973</td>\n      <td>73</td>\n    </tr>\n    <tr>\n      <th>1</th>\n      <td>2</td>\n      <td>Life Is Beautiful (La Vita è bella) (1997)</td>\n      <td>4.253425</td>\n      <td>73</td>\n    </tr>\n    <tr>\n      <th>2</th>\n      <td>3</td>\n      <td>Casablanca (1942)</td>\n      <td>4.236000</td>\n      <td>125</td>\n    </tr>\n    <tr>\n      <th>3</th>\n      <td>4</td>\n      <td>Annie Hall (1977)</td>\n      <td>4.205882</td>\n      <td>68</td>\n    </tr>\n    <tr>\n      <th>4</th>\n      <td>5</td>\n      <td>My Fair Lady (1964)</td>\n      <td>4.170000</td>\n      <td>50</td>\n    </tr>\n    <tr>\n      <th>5</th>\n      <td>6</td>\n      <td>Vertigo (1958)</td>\n      <td>4.169492</td>\n      <td>59</td>\n    </tr>\n    <tr>\n      <th>6</th>\n      <td>7</td>\n      <td>Good Will Hunting (1997)</td>\n      <td>4.167857</td>\n      <td>140</td>\n    </tr>\n    <tr>\n      <th>7</th>\n      <td>8</td>\n      <td>West Side Story (1961)</td>\n      <td>4.166667</td>\n      <td>42</td>\n    </tr>\n    <tr>\n      <th>8</th>\n      <td>9</td>\n      <td>Princess Bride, The (1987)</td>\n      <td>4.163743</td>\n      <td>171</td>\n    </tr>\n    <tr>\n      <th>9</th>\n      <td>10</td>\n      <td>American Beauty (1999)</td>\n      <td>4.157407</td>\n      <td>216</td>\n    </tr>\n  </tbody>\n</table>\n</div>"
          },
          "metadata": {}
        }
      ],
      "execution_count": 65
    }
  ]
}